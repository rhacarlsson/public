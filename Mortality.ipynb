{
  "nbformat": 4,
  "nbformat_minor": 0,
  "metadata": {
    "colab": {
      "provenance": [],
      "authorship_tag": "ABX9TyNG+TGj71mHgQVRGKPGx0zX",
      "include_colab_link": true
    },
    "kernelspec": {
      "name": "python3",
      "display_name": "Python 3"
    },
    "language_info": {
      "name": "python"
    }
  },
  "cells": [
    {
      "cell_type": "markdown",
      "metadata": {
        "id": "view-in-github",
        "colab_type": "text"
      },
      "source": [
        "<a href=\"https://colab.research.google.com/github/rhacarlsson/public/blob/main/Mortality.ipynb\" target=\"_parent\"><img src=\"https://colab.research.google.com/assets/colab-badge.svg\" alt=\"Open In Colab\"/></a>"
      ]
    },
    {
      "cell_type": "code",
      "source": [
        "\"\"\"\n",
        "Life Expectancy Calculator\n",
        "\n",
        "Calculates remaining life expectancy (RLE) based on birth year and life expectancy at birth (LEB) for persons born 1970-2023.\n",
        "\n",
        "The model assumption is that a person's longevity will never be influenced by any factors whatsoever.\n",
        "Thus, in this model, it is always true that RLE = LEB - age.\n",
        "\n",
        "LEB data source: Statistics Sweden (SCB)\n",
        "https://www.scb.se/en/finding-statistics/statistics-by-subject-area/population/population-projections/population-projections/pong/tables-and-graphs/life-expectancy-at-birth-and-age-65-by-sex-and-projection/\n",
        "\n",
        "LEB values are the  averaged values of female LEB and male LEB.\n",
        "\n",
        "Future version updates:\n",
        "* Manage data using Pandas DataFrames, loading data from external SCB file (XLSX, CSV, JSON)\n",
        "* Determine user's sex\n",
        "* Distinguish between female and male LEB\n",
        "* Present different RLE depending on user's sex\n",
        "* Introduce model factors influencing longevity, affecting RLE (play around creatively)\n",
        "* Implement dictionary key error check (if user's birth year is out of range)\n",
        "* Calculate months (weeks, days, hours) remaining\n",
        "\"\"\"\n",
        "\n",
        "# Create dictionary of Life Expectancy at Birth (LEB) for years 1970-2023\n",
        "LEB_dictionary = {\n",
        "    'Y1970': 74.7,\n",
        "    'Y1971': 74.7,\n",
        "    'Y1972': 74.8,\n",
        "    'Y1973': 74.9,\n",
        "    'Y1974': 75.1,\n",
        "    'Y1975': 75.0,\n",
        "    'Y1976': 75.1,\n",
        "    'Y1977': 75.5,\n",
        "    'Y1978': 75.6,\n",
        "    'Y1979': 75.6,\n",
        "    'Y1980': 75.8,\n",
        "    'Y1981': 76.1,\n",
        "    'Y1982': 76.4,\n",
        "    'Y1983': 76.6,\n",
        "    'Y1984': 76.9,\n",
        "    'Y1985': 76.8,\n",
        "    'Y1986': 77.0,\n",
        "    'Y1987': 77.2,\n",
        "    'Y1988': 77.0,\n",
        "    'Y1989': 77.7,\n",
        "    'Y1990': 77.6,\n",
        "    'Y1991': 77.7,\n",
        "    'Y1992': 78.1,\n",
        "    'Y1993': 78.1,\n",
        "    'Y1994': 78.7,\n",
        "    'Y1995': 78.8,\n",
        "    'Y1996': 79.0,\n",
        "    'Y1997': 79.3,\n",
        "    'Y1998': 79.4,\n",
        "    'Y1999': 79.4,\n",
        "    'Y2000': 79.7,\n",
        "    'Y2001': 79.8,\n",
        "    'Y2002': 79.9,\n",
        "    'Y2003': 80.2,\n",
        "    'Y2004': 80.5,\n",
        "    'Y2005': 80.6,\n",
        "    'Y2006': 80.8,\n",
        "    'Y2007': 80.9,\n",
        "    'Y2008': 81.1,\n",
        "    'Y2009': 81.4,\n",
        "    'Y2010': 81.5,\n",
        "    'Y2011': 81.8,\n",
        "    'Y2012': 81.7,\n",
        "    'Y2013': 81.9,\n",
        "    'Y2014': 82.2,\n",
        "    'Y2015': 82.2,\n",
        "    'Y2016': 82.3,\n",
        "    'Y2017': 82.4,\n",
        "    'Y2018': 82.5,\n",
        "    'Y2019': 83.0,\n",
        "    'Y2020': 82.4,\n",
        "    'Y2021': 83.0,\n",
        "    'Y2022': 83.0,\n",
        "    'Y2023': 83.2\n",
        "}\n"
      ],
      "metadata": {
        "id": "zPepEP76gY8X"
      },
      "execution_count": null,
      "outputs": []
    },
    {
      "cell_type": "code",
      "execution_count": 23,
      "metadata": {
        "colab": {
          "base_uri": "https://localhost:8080/"
        },
        "id": "qHc7PDP29X8P",
        "outputId": "1c116f99-38c1-4803-a7c5-30b8b156dc1e"
      },
      "outputs": [
        {
          "name": "stdout",
          "output_type": "stream",
          "text": [
            "What year were you born? 1999\n"
          ]
        }
      ],
      "source": [
        "# Ask the user what year they were born\n",
        "birthyear = int(input(\"What year were you born? \"))\n",
        "\n",
        "# Define age variable and calculate age\n",
        "age = 2024 - birthyear\n",
        "\n",
        "# Create key for year of birth to enable dynamic calculation of RLE based on birthyear\n",
        "year_key = f'Y{birthyear}'\n",
        "\n",
        "# Calculate RLE and round to 1 decimal\n",
        "RLE = LEB_dictionary[year_key] - age\n",
        "RLE_rounded = round(RLE, 1)\n"
      ]
    },
    {
      "cell_type": "code",
      "source": [
        "# Print age, LEB, and RLE\n",
        "\n",
        "print(f\"You are {age} years old.\") # Alternative way of printing: print(\"You are %a years old.\" % (age))\n",
        "print(f\"Your life expectancy at birth (LEB) was {LEB_dictionary[year_key]} years.\")\n",
        "print(f\"Your remaining life expectancy (RLE) is {RLE_rounded} years. Memento mori!\")\n",
        "\n"
      ],
      "metadata": {
        "colab": {
          "base_uri": "https://localhost:8080/"
        },
        "id": "I9EDGu2XDjU2",
        "outputId": "7598fe4b-dfff-43be-b7fd-f3ee177799ab"
      },
      "execution_count": 24,
      "outputs": [
        {
          "output_type": "stream",
          "name": "stdout",
          "text": [
            "You are 25 years old.\n",
            "Your life expectancy at birth (LEB) was 79.4 years.\n",
            "Your remaining life expectancy (RLE) is 54.4 years. Memento mori!\n"
          ]
        }
      ]
    }
  ]
}